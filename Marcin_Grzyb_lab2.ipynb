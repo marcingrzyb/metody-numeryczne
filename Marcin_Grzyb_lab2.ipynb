{
 "cells": [
  {
   "cell_type": "markdown",
   "metadata": {},
   "source": [
    "Zadanie 1."
   ]
  },
  {
   "cell_type": "code",
   "execution_count": 9,
   "metadata": {},
   "outputs": [
    {
     "name": "stdout",
     "output_type": "stream",
     "text": [
      "blad bezwzgledny pi:  0.0012644892673496777 blad wzgledny :  0.0004024994347707008\n",
      "blad bezwzgledny e:  0.0002818284590451192 blad wzgledny:  0.00010367889601972718\n",
      "blad bezwzgledny 10^pi:  11.544268632989315 blad wzgledny:  0.008332470227394952\n",
      "blad bezwzgledny 9!:  3343.1271580516477 blad wzgeldny:  0.009212762230080598\n"
     ]
    }
   ],
   "source": [
    "import math\n",
    "def bezwzgledny(x,y):\n",
    "    return math.fabs(x-y)\n",
    "def wzgledny(x,y):\n",
    "    return math.fabs((x-y)/x)\n",
    "\n",
    "p=math.pi\n",
    "pp=22/7\n",
    "print(\"blad bezwzgledny pi: \",bezwzgledny(p,pp),\"blad wzgledny : \",wzgledny(p,pp))\n",
    "p1=math.e\n",
    "pp1=2.718\n",
    "print(\"blad bezwzgledny e: \",bezwzgledny(p1,pp1),\"blad wzgledny: \",wzgledny(p1,pp1))\n",
    "p2=pow(10,math.pi)\n",
    "pp2=1397\n",
    "print(\"blad bezwzgledny 10^pi: \",bezwzgledny(p2,pp2),\"blad wzgledny: \",wzgledny(p2,pp2))\n",
    "p3=math.factorial(9)\n",
    "pp3=math.sqrt(18*math.pi)*math.pow(9/math.e,9)\n",
    "print(\"blad bezwzgledny 9!: \",bezwzgledny(p3,pp3),\"blad wzgeldny: \",wzgledny(p3,pp3))"
   ]
  },
  {
   "cell_type": "markdown",
   "metadata": {},
   "source": [
    "Zadanie 2."
   ]
  },
  {
   "cell_type": "code",
   "execution_count": 11,
   "metadata": {},
   "outputs": [
    {
     "name": "stdout",
     "output_type": "stream",
     "text": [
      "[3.141592653589793, 3.1415926535897967, 3.14159265358982, 3.1415926535901235, 3.1415926535904877, 3.1415926535846666, 3.1415926537343433, 3.1415926534682512, 3.1415926615397134, 3.1415927886962893, 3.141591852361506, 3.1416015625, 3.1415264423076925, 3.141741071428571, 3.1416666666666666, 3.25, 2.8235294117647056, 0.0, 0.0, 0.0]\n"
     ]
    },
    {
     "data": {
      "image/png": "[encoded data removed]",
      "text/plain": [
       "<Figure size 432x288 with 1 Axes>"
      ]
     },
     "metadata": {
      "needs_background": "light"
     },
     "output_type": "display_data"
    }
   ],
   "source": [
    "import numpy\n",
    "import matplotlib.pyplot as plt\n",
    "\n",
    "def GP(p):\n",
    "    vector=[]\n",
    "    for i in range(1,p+1):\n",
    "        vector.append((1/i*(math.pow(10,i)*(1+i*math.pi*math.pow(10,-i))-math.pow(10,i))))\n",
    "    return vector\n",
    "#print(GP(15)) \n",
    "pi = numpy.round(math.pi,15)\n",
    "lista = GP(20)\n",
    "bezwgl = [math.fabs(pi-x) for x in lista]\n",
    "wzgl = [x/math.fabs(pi) for x in bezwgl]\n",
    "print(lista)\n",
    "\n",
    "plt.title('Wykres bledu bezwzglednego i wzglednego')\n",
    "plt.semilogy(range(1,21),bezwgl,\"o\",label=\"Blad bezwzgledny\")\n",
    "plt.semilogy(range(1,21),wzgl,\"o\",label=\"Blad wzgledny\")\n",
    "plt.legend()\n",
    "plt.xlabel('n')\n",
    "plt.ylabel('wartosc bledu')\n",
    "plt.show()  "
   ]
  },
  {
   "cell_type": "markdown",
   "metadata": {},
   "source": [
    "1. Wartość G(p) obliczona w sposob analityczny nie zależy od p,po uproszczdeniu wyrażenia jest ono równe pi\n",
    "3. Wraz ze wzrostem n wartosc bledu rosnie. Mozemy wywnioskowac,ze obliczenia wykonywane są numerycznie (komputer nie upraszcza wyrazen przed ich obliczeniem) oraz, ze z każda kolejna operacja blad wynikajacy z poprzednich kumuluje się.\n",
    "4. Wystepuje tutaj blad zaokraglen."
   ]
  },
  {
   "cell_type": "markdown",
   "metadata": {},
   "source": [
    "Zadanie 3."
   ]
  },
  {
   "cell_type": "code",
   "execution_count": 9,
   "metadata": {},
   "outputs": [
    {
     "name": "stdout",
     "output_type": "stream",
     "text": [
      "blad bezwzgledny suma 5:  0.0016151617923787498\n",
      "blad wzgledny suma 5:  0.0005941848175817597\n",
      "blad bezwzgledny suma 10:  2.7312660577649694e-08\n",
      "blad wzgledny suma 10:  1.0047766310211053e-08\n"
     ]
    }
   ],
   "source": [
    "def sum_e(n):\n",
    "    e = 0\n",
    "    for i in range(0,n+1):\n",
    "            e += 1/math.factorial(i)\n",
    "    return e\n",
    "\n",
    "print(\"blad bezwzgledny suma 5: \",bezwzgledny(math.e,sum_e(5)))\n",
    "print(\"blad wzgledny suma 5: \",wzgledny(math.e,sum_e(5)))\n",
    "print(\"blad bezwzgledny suma 10: \",bezwzgledny(math.e,sum_e(10)))\n",
    "print(\"blad wzgledny suma 10: \",wzgledny(math.e,sum_e(10)))"
   ]
  },
  {
   "cell_type": "markdown",
   "metadata": {},
   "source": [
    "Zadanie 4."
   ]
  },
  {
   "cell_type": "code",
   "execution_count": 7,
   "metadata": {},
   "outputs": [
    {
     "name": "stdout",
     "output_type": "stream",
     "text": [
      "liczba bitów mantysy:  53\n"
     ]
    }
   ],
   "source": [
    "a = 1.0\n",
    "p = 1\n",
    "while True:\n",
    "    b = 2**-p\n",
    "    if (a+b-a-b!=0):\n",
    "        break\n",
    "    else:\n",
    "        p+=1\n",
    "\n",
    "print(\"liczba bitów mantysy: \",p)\n",
    "#Ilosc bitow mantysy okresla precyzje zapisu. Im jest wieksza, tym dokladniej mozna przedstawic liczby rzeczywiste, jednak nadal nie jest to w pelni dokladne,blad zaokraglenia powtaje na skutek koniecznosci zapisu liczby z uzyciem skonczonej liczby slow binarnych.\n"
   ]
  },
  {
   "cell_type": "markdown",
   "metadata": {},
   "source": [
    "Zadanie 5."
   ]
  },
  {
   "cell_type": "code",
   "execution_count": 18,
   "metadata": {},
   "outputs": [
    {
     "name": "stdout",
     "output_type": "stream",
     "text": [
      "3.14063710098594\n"
     ]
    }
   ],
   "source": [
    "pi=lambda z:math.sqrt(6*sum([1/n**2 for n in range(1,z)]))\n",
    "print(pi(1000))\n",
    "# Mamy tu do czynienia z bledem obciecia, na skutek ograniczenia liczby działan (obliczania sum nieskonczonych jest niemozliwe numerycznie). Mamy tu rowniez do czynienia z bledem zaokraglenia powstalym na skutek koniecznosci zaokraglania obliczonych wartosci ze wzgledu na ograniczona dlugosc slow binarnych."
   ]
  }
 ],
 "metadata": {
  "kernelspec": {
   "display_name": "Python 3",
   "language": "python",
   "name": "python3"
  },
  "language_info": {
   "codemirror_mode": {
    "name": "ipython",
    "version": 3
   },
   "file_extension": ".py",
   "mimetype": "text/x-python",
   "name": "python",
   "nbconvert_exporter": "python",
   "pygments_lexer": "ipython3",
   "version": "3.7.0"
  }
 },
 "nbformat": 4,
 "nbformat_minor": 2
}
