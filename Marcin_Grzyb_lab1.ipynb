{
 "cells": [
  {
   "cell_type": "markdown",
   "metadata": {},
   "source": [
    "Zadanie 1."
   ]
  },
  {
   "cell_type": "code",
   "execution_count": 4,
   "metadata": {},
   "outputs": [],
   "source": [
    "import math\n",
    "\n",
    "k = 1240*math.sqrt(7) #float\n",
    "m = 4467 #int\n",
    "l = 2j #complex\n",
    "d = k+m #float\n",
    "c = d+l #complex"
   ]
  },
  {
   "cell_type": "markdown",
   "metadata": {},
   "source": [
    "Zadanie 2."
   ]
  },
  {
   "cell_type": "code",
   "execution_count": 5,
   "metadata": {},
   "outputs": [
    {
     "name": "stdout",
     "output_type": "stream",
     "text": [
      "7747.731625720093\n",
      "7747.732\n",
      "7747.73162572009277937468\n"
     ]
    }
   ],
   "source": [
    "print(d) #domyslna dokaldnosc\n",
    "print('%.3f' %d) #dokladnosc do 3 miejsc po przecinku\n",
    "print('%.20f' %d) #dokladnosc do 20 miejsc po przecinku"
   ]
  },
  {
   "cell_type": "markdown",
   "metadata": {},
   "source": [
    "Zadanie 3."
   ]
  },
  {
   "cell_type": "code",
   "execution_count": 6,
   "metadata": {},
   "outputs": [
    {
     "name": "stdout",
     "output_type": "stream",
     "text": [
      "5340.707511102648\n"
     ]
    }
   ],
   "source": [
    "r=17.0\n",
    "h=33.0\n",
    "S= 2*math.pi*r*h+2*math.pi*math.pow(r,2) #Pole powierzchni\n",
    "print(S)"
   ]
  },
  {
   "cell_type": "markdown",
   "metadata": {},
   "source": [
    "Zadanie 5."
   ]
  },
  {
   "cell_type": "code",
   "execution_count": 7,
   "metadata": {},
   "outputs": [
    {
     "name": "stdout",
     "output_type": "stream",
     "text": [
      "0.5809230838528177\n"
     ]
    }
   ],
   "source": [
    "x=1\n",
    "r=2\n",
    "t=3\n",
    "B=((x+r)*math.pow(x,t*r))/(r*math.sin(2*x)+3.3456)\n",
    "print(B)"
   ]
  },
  {
   "cell_type": "markdown",
   "metadata": {},
   "source": [
    "Zadanie 6."
   ]
  },
  {
   "cell_type": "code",
   "execution_count": 8,
   "metadata": {},
   "outputs": [
    {
     "name": "stdout",
     "output_type": "stream",
     "text": [
      "[[ 1.41421356  0.         -1.41421356]\n",
      " [ 1.          1.          1.41421356]\n",
      " [-1.41421356  1.          1.        ]]\n",
      "[[ 0.10355339  0.35355339 -0.35355339]\n",
      " [ 0.75        0.14644661  0.85355339]\n",
      " [-0.60355339  0.35355339 -0.35355339]]\n",
      "[[ 1.41421356  1.         -1.41421356]\n",
      " [ 0.          1.          1.        ]\n",
      " [-1.41421356  1.41421356  1.        ]]\n",
      "-4.0\n"
     ]
    }
   ],
   "source": [
    "import numpy\n",
    "a=math.sqrt(2)\n",
    "mtrx=numpy.array([[a,0,-a],[1,1,a],[-a,1,1]])#Macierz\n",
    "print(mtrx)\n",
    "mtrxinv=numpy.linalg.inv(mtrx)#Macierz odwrotna\n",
    "print(mtrxinv)\n",
    "\n",
    "mtrxT=numpy.transpose(mtrx)#Macierz transponowana\n",
    "print(mtrxT)\n",
    "\n",
    "detmtrx=numpy.linalg.det(mtrx)#wyznacznik macierzy\n",
    "print(detmtrx)"
   ]
  },
  {
   "cell_type": "markdown",
   "metadata": {},
   "source": [
    "Zadanie 7."
   ]
  },
  {
   "cell_type": "code",
   "execution_count": 9,
   "metadata": {},
   "outputs": [
    {
     "name": "stdout",
     "output_type": "stream",
     "text": [
      "Wylosowana tablica 4x4:\n",
      " [[3 5 8 4]\n",
      " [1 8 9 2]\n",
      " [8 8 0 8]\n",
      " [5 0 8 9]]\n",
      "[1,1]:  3\n",
      "[3,3]:  0\n",
      "[3,2]:  8\n",
      "Elementy trzeciej kolumny: \n",
      "[8 9 0 8]\n",
      "Elementy drugiego wiersza: \n",
      "[1 8 9 2]\n"
     ]
    }
   ],
   "source": [
    "P = numpy.array([numpy.random.randint(0,10,4),numpy.random.randint(0,10,4),numpy.random.randint(0,10,4),numpy.random.randint(0,10,4)])#tworzenie losowej macierzy\n",
    "print(\"Wylosowana tablica 4x4:\\n {0}\".format(P))\n",
    "print(\"[1,1]: \",P[0,0])\n",
    "print(\"[3,3]: \",P[2,2])\n",
    "print(\"[3,2]: \",P[2,1])\n",
    "w1=format(P[:,2])\n",
    "print(\"Elementy trzeciej kolumny: \")\n",
    "print(w1)\n",
    "print(\"Elementy drugiego wiersza: \")\n",
    "w2=format(P[1,:])\n",
    "print(w2)"
   ]
  },
  {
   "cell_type": "markdown",
   "metadata": {},
   "source": [
    "Zadanie 8."
   ]
  },
  {
   "cell_type": "code",
   "execution_count": 18,
   "metadata": {},
   "outputs": [
    {
     "name": "stdout",
     "output_type": "stream",
     "text": [
      "roots:  [ 5.  3.  2. -2. -1.]\n",
      "-4.547473508864641e-13\n",
      "-4.547473508864641e-13\n",
      "-4.547473508864641e-13\n",
      "-4.547473508864641e-13\n",
      "-4.547473508864641e-13\n"
     ]
    }
   ],
   "source": [
    "coeff=[1,-7,3,43,-28,-60]\n",
    "print(\"roots: \",numpy.roots(coeff))\n",
    "\"\"\"\n",
    "Sprawdzenie wyników\n",
    "\"\"\"\n",
    "\n",
    "x=numpy.roots(coeff)[0]\n",
    "Wx=x**5-7*x**4+(3*math.pow(x,3))+(43*math.pow(x,2))-(28*x)-60\n",
    "print(Wx)\n",
    "\n",
    "x=numpy.roots(coeff)[1]\n",
    "print(Wx)\n",
    "\n",
    "x=numpy.roots(coeff)[2]\n",
    "print(Wx)\n",
    "\n",
    "x=numpy.roots(coeff)[3]\n",
    "print(Wx)\n",
    "\n",
    "x=numpy.roots(coeff)[4]\n",
    "print(Wx)\n",
    "\n",
    "#wyniki są bardzo bliskie zera co wynika z zaokrąglenia miejsca zerowego"
   ]
  },
  {
   "cell_type": "markdown",
   "metadata": {},
   "source": [
    "Zadanie 9."
   ]
  },
  {
   "cell_type": "code",
   "execution_count": 11,
   "metadata": {},
   "outputs": [
    {
     "name": "stdout",
     "output_type": "stream",
     "text": [
      "[ 2.          3.41421356  4.82842712  6.24264069  7.65685425  9.07106781\n",
      " 10.48528137 11.89949494 13.3137085  14.72792206 16.14213562 17.55634919\n",
      " 18.97056275 20.38477631 21.79898987 23.21320344 24.627417   26.04163056\n",
      " 27.45584412 28.87005769 30.28427125 31.69848481 33.11269837 34.52691193\n",
      " 35.9411255  37.35533906 38.76955262 40.18376618 41.59797975 43.01219331\n",
      " 44.42640687 45.84062043 47.254834   48.66904756]\n",
      "(array([ 2.,  4.,  6.,  8., 10., 12., 14., 16., 18., 20., 22., 24., 26.,\n",
      "       28., 30., 32., 34., 36., 38., 40., 42., 44., 46., 48., 50.]), 2.0)\n"
     ]
    }
   ],
   "source": [
    "x1 =numpy.arange(2,50,math.sqrt(2))#start=2,stop=50,step=sqrt(2)\n",
    "print(x1)\n",
    "x2=numpy.linspace(2,50,num=25,retstep=True)#start=2,stop=50,liczbe elementow 25,krok automatyczny zwracany przez retstep=True\n",
    "print(x2)"
   ]
  },
  {
   "cell_type": "markdown",
   "metadata": {},
   "source": [
    "zadanie 10."
   ]
  },
  {
   "cell_type": "code",
   "execution_count": 19,
   "metadata": {},
   "outputs": [
    {
     "data": {
      "image/png": "[encoded data removed]",
      "text/plain": [
       "<Figure size 432x288 with 1 Axes>"
      ]
     },
     "metadata": {
      "needs_background": "light"
     },
     "output_type": "display_data"
    },
    {
     "data": {
      "image/png": "[encoded data removed]",
      "text/plain": [
       "<Figure size 432x288 with 1 Axes>"
      ]
     },
     "metadata": {
      "needs_background": "light"
     },
     "output_type": "display_data"
    },
    {
     "data": {
      "image/png": "[encoded data removed]",
      "text/plain": [
       "<Figure size 432x288 with 1 Axes>"
      ]
     },
     "metadata": {
      "needs_background": "light"
     },
     "output_type": "display_data"
    }
   ],
   "source": [
    "import matplotlib.pyplot as plt\n",
    "import matplotlib.patches as mpatches\n",
    "legendka = mpatches.Patch(color='blue', label='Wykres Funkcji')\n",
    "\n",
    "def funkcja(x):\n",
    "    return x**3-3*x\n",
    "x1 = numpy.linspace(-1,1)\n",
    "x2 = numpy.linspace(-5,5)\n",
    "x3 = numpy.linspace(0,5)\n",
    "\n",
    "y1 = funkcja(x1)   \n",
    "y2 = funkcja(x2) \n",
    "y3 = funkcja(x3) \n",
    "\n",
    "plt.title('Wykres f(x)')\n",
    "#<-1,1>\n",
    "plt.plot(x1,y1,'blue')\n",
    "plt.xlabel('x')\n",
    "plt.ylabel('y')\n",
    "plt.legend(handles=[legendka])\n",
    "plt.show()\n",
    "\n",
    "#<-5,5>\n",
    "plt.plot(x2,y2,'blue')\n",
    "plt.xlabel('x')\n",
    "plt.ylabel('y')\n",
    "plt.legend(handles=[legendka])\n",
    "plt.show()\n",
    "\n",
    "#<0,5>\n",
    "plt.plot(x3,y3,'blue')\n",
    "plt.xlabel('x')\n",
    "plt.ylabel('y')\n",
    "plt.legend(handles=[legendka])\n",
    "plt.show()"
   ]
  },
  {
   "cell_type": "markdown",
   "metadata": {},
   "source": [
    "zadanie 11."
   ]
  },
  {
   "cell_type": "code",
   "execution_count": 13,
   "metadata": {},
   "outputs": [
    {
     "name": "stdout",
     "output_type": "stream",
     "text": [
      "Ciepło w J:  347.2222222222223\n",
      "Ciepło w kcal:  0.08293260299565833\n"
     ]
    },
    {
     "data": {
      "image/png": "[encoded data removed]",
      "text/plain": [
       "<Figure size 432x288 with 1 Axes>"
      ]
     },
     "metadata": {
      "needs_background": "light"
     },
     "output_type": "display_data"
    },
    {
     "data": {
      "image/png": "[encoded data removed]",
      "text/plain": [
       "<Figure size 432x288 with 1 Axes>"
      ]
     },
     "metadata": {
      "needs_background": "light"
     },
     "output_type": "display_data"
    }
   ],
   "source": [
    "def Q(m,v):\n",
    "    return m*v**2/2\n",
    "\n",
    "m = 2500 #[g]\n",
    "v = 60 #[km/h]\n",
    "\n",
    "q = Q(m/1000,v/3.6)\n",
    "print('Ciepło w J: ',q) #J\n",
    "print('Ciepło w kcal: ',q/4186.8)#1kcal = 4168,6J\n",
    "\n",
    "x = numpy.linspace(200,0,1000)\n",
    "y =[Q(3,i/3.6) for i in x] #Wm=3kg i predkosc w [m/s]\n",
    "plt.figure\n",
    "plt.subplot(211)\n",
    "plt.plot(x, y)\n",
    "plt.title('Wykres liniowy')\n",
    "plt.xlabel('v[km/h]')\n",
    "plt.ylabel('Q[J]')\n",
    "plt.legend('Wykres liniowy')\n",
    "plt.show()\n",
    "plt.subplot(212)\n",
    "plt.semilogy(x,y)\n",
    "plt.title('Wykres logarytmiczny')\n",
    "plt.xlabel('v[km/h]')\n",
    "plt.ylabel('Q[J]')\n",
    "plt.legend('Wykres logarytmiczny')\n",
    "plt.show()"
   ]
  }
 ],
 "metadata": {
  "kernelspec": {
   "display_name": "Python 3",
   "language": "python",
   "name": "python3"
  },
  "language_info": {
   "codemirror_mode": {
    "name": "ipython",
    "version": 3
   },
   "file_extension": ".py",
   "mimetype": "text/x-python",
   "name": "python",
   "nbconvert_exporter": "python",
   "pygments_lexer": "ipython3",
   "version": "3.7.0"
  }
 },
 "nbformat": 4,
 "nbformat_minor": 2
}
