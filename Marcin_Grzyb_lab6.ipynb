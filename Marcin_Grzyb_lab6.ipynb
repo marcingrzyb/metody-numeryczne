{
 "cells": [
  {
   "cell_type": "code",
   "execution_count": 2,
   "metadata": {},
   "outputs": [],
   "source": [
    "import math\n",
    "import scipy.integrate\n",
    "import scipy.misc\n",
    "import scipy.stats\n",
    "import matplotlib.pyplot as plt"
   ]
  },
  {
   "cell_type": "markdown",
   "metadata": {},
   "source": [
    "Zadanie 1."
   ]
  },
  {
   "cell_type": "code",
   "execution_count": 27,
   "metadata": {},
   "outputs": [
    {
     "name": "stdout",
     "output_type": "stream",
     "text": [
      "Rozwiązanie analityczne:(1/2)*(1-e^-2)~0.43233..\n",
      "Metoda prostokątów  0.36787944117144233\n",
      "Metoda prostych trapezów  0.5676676416183064\n",
      "Metoda prosta Simpsona  0.4344755079870637\n",
      "Metoda złożonych trapezów  0.43377250641846693\n",
      "Metoda złożona Simpsona  0.43233259828070303\n",
      "Metoda Romberga  0.43233235838943557\n",
      "Metoda quad  (0.4323323583816936, 4.79985338565851e-15)\n",
      "Najbardziej zbliżony wynik do metody analitycznej daje metoda Romberga,złożona metoda Simpsona oraz metoda Quad.\n"
     ]
    }
   ],
   "source": [
    "#1.1\n",
    "print(\"Rozwiązanie analityczne:(1/2)*(1-e^-2)~0.43233..\")\n",
    "def f(x):\n",
    "  return math.pow(math.e,-2*x);\n",
    "#1.2\n",
    "a = 0\n",
    "b = 1\n",
    "N = 10#liczba przedziałow\n",
    "sum = 0\n",
    "dx = (b - a) / N\n",
    "sum=f((a+b)/2)*(b-a)\n",
    "print('Metoda prostokątów ',sum)\n",
    "sum=0\n",
    "#1.3\n",
    "\n",
    "sum=((b-a)/2)*(f(a)+f(b))\n",
    "print('Metoda prostych trapezów ',sum)\n",
    "sum=0\n",
    "#1.4\n",
    "\n",
    "sum=((b-a)/6)*(f(a)+4*f((a+b)/2)+f(b))\n",
    "print('Metoda prosta Simpsona ',sum)\n",
    "sum=0\n",
    "#1.5\n",
    "def trap(b):\n",
    "    sum=0\n",
    "    def func(b,i):\n",
    "        return (a+(i)*((b-a)/N))\n",
    "    for i in range(0,N):\n",
    "        sum+=((func(b,i+1)-func(b,i))/2)*(f(func(b,i))+f(func(b,i+1)))\n",
    "    return sum\n",
    "print('Metoda złożonych trapezów ',trap(b))\n",
    "sum=0\n",
    "#1.6\n",
    "\n",
    "\n",
    "def simps(b):\n",
    "    sum=0\n",
    "    def func(b,i):\n",
    "        return (a+(i)*((b-a)/N))\n",
    "    for i in range(0,N):\n",
    "        sum+=((func(b,i+1)-func(b,i))/6)*(f(func(b,i))+4*f((func(b,i)+func(b,i+1))/2)+f(func(b,i+1)))\n",
    "    return sum\n",
    "\n",
    "print('Metoda złożona Simpsona ',simps(b))\n",
    "sum=0\n",
    "\n",
    "#1.7\n",
    "\n",
    "romb=scipy.integrate.romberg(f,a,b,tol=10**-6)\n",
    "print('Metoda Romberga ',romb)\n",
    "#1.8\n",
    "\n",
    "sum=scipy.integrate.quad(f,a,b)\n",
    "print('Metoda quad ',sum)\n",
    "print(\"Najbardziej zbliżony wynik do metody analitycznej daje metoda Romberga,złożona metoda Simpsona oraz metoda Quad.\")"
   ]
  },
  {
   "cell_type": "markdown",
   "metadata": {},
   "source": [
    "Zadanie 2."
   ]
  },
  {
   "cell_type": "code",
   "execution_count": 3,
   "metadata": {},
   "outputs": [
    {
     "name": "stdout",
     "output_type": "stream",
     "text": [
      "Metoda trapezów:  1.6448907135693664  błąd:  3.708661789425527e-05\n",
      "Metoda Simpsona:  1.6448536269391643  błąd:  1.2307932450994485e-11\n",
      "Wartość referencyjna  1.6448536269514722\n",
      "Możemy zauważyc, że bład przy użyciu metody Simpsona jest znacznie mniejszy co oznacza, że jest ona dokładniejsza.\n"
     ]
    }
   ],
   "source": [
    "accur = math.pow(10,-5)\n",
    "maxit=100\n",
    "p=0.5\n",
    "N=100\n",
    "a=0\n",
    "def f(t):\n",
    "   return math.pow(math.e,(-t**2)/2)/math.sqrt(2*math.pi)\n",
    "def trap(b):\n",
    "    sum=0\n",
    "    def func(b,i):\n",
    "        return (a+(i)*((b-a)/N))\n",
    "    for i in range(0,N):\n",
    "        sum+=((func(b,i+1)-func(b,i))/2)*(f(func(b,i))+f(func(b,i+1)))\n",
    "    return sum\n",
    "\n",
    "def simps(b):\n",
    "    sum=0\n",
    "    def func(b,i):\n",
    "        return (a+(i)*((b-a)/N))\n",
    "    for i in range(0,N):\n",
    "        sum+=((func(b,i+1)-func(b,i))/6)*(f(func(b,i))+4*f((func(b,i)+func(b,i+1))/2)+f(func(b,i+1)))\n",
    "    return sum\n",
    "\n",
    "def NR(fx,dfx,a,accur,maxit):\n",
    "    xa=a\n",
    "    xb=xa-(fx(xa)/dfx(xa))\n",
    "    i=0\n",
    "    while maxit>i and abs(xa-xb)>accur:\n",
    "        i+=1\n",
    "        xa=xb\n",
    "        xb=xa-fx(xa)/dfx(xa)\n",
    "    return xb\n",
    "def t(x):\n",
    "    return trap(x)-0.45\n",
    "def s(x):\n",
    "    return simps(x)-0.45\n",
    "\n",
    "ref = scipy.stats.norm.ppf(0.45+scipy.stats.norm.cdf(0))\n",
    "trapezy = NR(t,f,p,accur,maxit)\n",
    "simpson = NR(s,f,p,accur,maxit)\n",
    "print('Metoda trapezów: ',trapezy,' błąd: ',abs(trapezy-ref))\n",
    "print('Metoda Simpsona: ',simpson,' błąd: ',abs(simpson-ref))\n",
    "print('Wartość referencyjna ', ref)\n",
    "print(\"Możemy zauważyc, że bład przy użyciu metody Simpsona jest znacznie mniejszy co oznacza, że jest ona dokładniejsza.\")"
   ]
  },
  {
   "cell_type": "markdown",
   "metadata": {},
   "source": [
    "Zadanie 3."
   ]
  },
  {
   "cell_type": "code",
   "execution_count": 4,
   "metadata": {},
   "outputs": [
    {
     "name": "stdout",
     "output_type": "stream",
     "text": [
      "Droga hamowania  6.331502525070518  m\n",
      "Predkosc srednia  5.2192392674477786  m/s\n"
     ]
    }
   ],
   "source": [
    "import scipy\n",
    "import scipy.interpolate\n",
    "time=[0.0,0.5,1.0,2.0,3.0,4.0]\n",
    "przysp=[-4.5,-4.5,-2.3,-1.0,-0.5,0.0]\n",
    "\n",
    "finter = scipy.interpolate.InterpolatedUnivariateSpline(time, przysp,k=3)\n",
    "x=[]\n",
    "for t in time:\n",
    "    x.append(scipy.integrate.quad(finter, 4, t)[0])\n",
    "v = scipy.interpolate.InterpolatedUnivariateSpline(time,x,k=3)\n",
    "s = abs(scipy.integrate.quad(v,0,4)[0])\n",
    "print('Droga hamowania ',s,' m')\n",
    "s1 = abs(scipy.integrate.quad(v,0,0.5)[0])\n",
    "t = 0.5 - 0\n",
    "print('Predkosc srednia ',s1/t, ' m/s')"
   ]
  },
  {
   "cell_type": "markdown",
   "metadata": {},
   "source": [
    "Zadanie 4."
   ]
  },
  {
   "cell_type": "code",
   "execution_count": 5,
   "metadata": {},
   "outputs": [
    {
     "name": "stdout",
     "output_type": "stream",
     "text": [
      "Trapez  11.063484774497711\n",
      "Simpson  11.06348477449771\n",
      "romberg  15.825159885482952\n"
     ]
    },
    {
     "data": {
      "image/png": "[encoded data removed]",
      "text/plain": [
       "<Figure size 432x288 with 1 Axes>"
      ]
     },
     "metadata": {
      "needs_background": "light"
     },
     "output_type": "display_data"
    },
    {
     "data": {
      "image/png": "[encoded data removed]",
      "text/plain": [
       "<Figure size 432x288 with 1 Axes>"
      ]
     },
     "metadata": {
      "needs_background": "light"
     },
     "output_type": "display_data"
    },
    {
     "name": "stdout",
     "output_type": "stream",
     "text": [
      "Na podstawie wykresów możemy wywnioskować, że wraz ze wzrostem N dokładność funkcji rośnie.\n"
     ]
    }
   ],
   "source": [
    "a=0\n",
    "b=4.8\n",
    "sum=0\n",
    "N=1000\n",
    "def df(x):\n",
    "    return math.pi*math.cos(math.pi*x*10)\n",
    "def function(x):\n",
    "    return math.sqrt(1+df(x)**2)\n",
    "def func(i,N):\n",
    "    return (a+(i)*((b-a)/N))\n",
    "def trapez(function,N):\n",
    "    sum=0\n",
    "    for i in range(0,N):\n",
    "        sum+=((func(i+1,N)-func(i,N))/2)*(function(func(i,N))+function(func(i+1,N)))\n",
    "    return sum\n",
    "def simpson(function,N):\n",
    "    sum=0\n",
    "    for i in range(0,N):\n",
    "        sum+=((func(i+1,N)-func(i,N))/6)*(function(func(i,N))+4*function((func(i,N)+func(i+1,N))/2)+function(func(i+1,N)))\n",
    "    return sum\n",
    "print(\"Trapez \",trapez(function,N))\n",
    "print(\"Simpson \",simpson(function,N))\n",
    "romb=scipy.integrate.romberg(function,a,b)\n",
    "print(\"romberg \",romb)\n",
    "przedzial = scipy.linspace(1,100,100)\n",
    "trapl=[]\n",
    "for i in range(1,101):\n",
    "    trapl.append(trapez(function,i))\n",
    "simpl=[]\n",
    "for i in range(1,101):\n",
    "    simpl.append(simpson(function,i))\n",
    "plt.title('Trapez')\n",
    "plt.plot(przedzial,trapl,\"o\")\n",
    "plt.xlabel('N')\n",
    "plt.ylabel('result')\n",
    "plt.show()\n",
    "\n",
    "plt.title('Simpson')\n",
    "plt.plot(przedzial,simpl,\"o\")\n",
    "plt.xlabel('N')\n",
    "plt.ylabel('result')\n",
    "plt.show()\n",
    "\n",
    "print(\"Na podstawie wykresów możemy wywnioskować, że wraz ze wzrostem N dokładność funkcji rośnie.\")"
   ]
  },
  {
   "cell_type": "code",
   "execution_count": null,
   "metadata": {},
   "outputs": [],
   "source": []
  }
 ],
 "metadata": {
  "kernelspec": {
   "display_name": "Python 3",
   "language": "python",
   "name": "python3"
  },
  "language_info": {
   "codemirror_mode": {
    "name": "ipython",
    "version": 3
   },
   "file_extension": ".py",
   "mimetype": "text/x-python",
   "name": "python",
   "nbconvert_exporter": "python",
   "pygments_lexer": "ipython3",
   "version": "3.7.0"
  }
 },
 "nbformat": 4,
 "nbformat_minor": 2
}
