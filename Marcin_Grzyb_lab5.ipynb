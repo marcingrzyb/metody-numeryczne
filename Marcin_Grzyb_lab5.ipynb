{
 "cells": [
  {
   "cell_type": "markdown",
   "metadata": {},
   "source": [
    "Zadanie 1"
   ]
  },
  {
   "cell_type": "markdown",
   "metadata": {},
   "source": [
    "i=1 x=[1,1]\n",
    "i=2 x=[2,0]"
   ]
  },
  {
   "cell_type": "code",
   "execution_count": 1,
   "metadata": {},
   "outputs": [
    {
     "name": "stdout",
     "output_type": "stream",
     "text": [
      "Współczynnik uwarunkowania macierzy A:  40004.0001000044\n",
      "Jest duży - macierz jest źle uwarunkowana, co oznacza, że mała zmiana wektora b skutkuje dużą zmianą wyniku\n"
     ]
    }
   ],
   "source": [
    "import numpy as np\n",
    "A = np.array([[1,1],[1,1.0001]])\n",
    "print(\"Współczynnik uwarunkowania macierzy A: \",np.linalg.cond(A,1))\n",
    "print(\"Jest duży - macierz jest źle uwarunkowana, co oznacza, że mała zmiana wektora b skutkuje dużą zmianą wyniku\")"
   ]
  },
  {
   "cell_type": "markdown",
   "metadata": {},
   "source": [
    "Zadanie 2"
   ]
  },
  {
   "cell_type": "code",
   "execution_count": 2,
   "metadata": {},
   "outputs": [
    {
     "name": "stdout",
     "output_type": "stream",
     "text": [
      "Dla normy kolumnowej 33872789110.107353\n",
      "DLa normy wierszowej 33872789109.75766\n",
      "Dla normy spektralnej 15257574847.190962\n"
     ]
    }
   ],
   "source": [
    "from scipy.linalg import hilbert\n",
    "import math\n",
    "import scipy\n",
    "A=hilbert(8)\n",
    "norma=np.linalg.norm(A,ord=1)#kolumnowa\n",
    "normaodw=np.linalg.norm(np.linalg.inv(A),ord=1)\n",
    "wsp=norma*normaodw\n",
    "print(\"Dla normy kolumnowej\",wsp)\n",
    "norma=np.linalg.norm(A,ord=np.inf)#wierszowa\n",
    "normaodw=np.linalg.norm(np.linalg.inv(A),ord=np.inf)\n",
    "wsp=norma*normaodw\n",
    "print(\"DLa normy wierszowej\",wsp)\n",
    "eigenvals = (np.linalg.eigvals(np.matmul(np.transpose(A),A)))\n",
    "eigenvals1 = (np.linalg.eigvals(np.matmul(np.transpose(np.linalg.inv(A)),np.linalg.inv(A))))\n",
    "norma  = math.sqrt(max(eigenvals))\n",
    "normaodw  = math.sqrt(max(eigenvals1))\n",
    "wsp=norma*normaodw\n",
    "print(\"Dla normy spektralnej\",wsp)"
   ]
  },
  {
   "cell_type": "markdown",
   "metadata": {},
   "source": [
    "Na podstawie otrzymanych wysokich współczynników uwarunkowania można stwierdzić, że macierz Hilberta jest źle uwarunkowana.\n",
    "Co oznacza, że błąd reprezentacji numerycznej danych wejściowych danego problemu znacznie wpływa na błąd wyniku."
   ]
  },
  {
   "cell_type": "markdown",
   "metadata": {},
   "source": [
    "Zadanie 3."
   ]
  },
  {
   "cell_type": "code",
   "execution_count": 3,
   "metadata": {},
   "outputs": [
    {
     "name": "stdout",
     "output_type": "stream",
     "text": [
      "czas Solve 0.00015306472778320312\n",
      "czas QR 0.008149862289428711\n",
      "czas lstsq 0.0003337860107421875\n",
      "rozwiazania dla kolejnych metod(solve,QR,lstsq): \n",
      "[ 1.00000000e+00  3.32764927e-11 -8.00000000e+00  6.35818437e-08\n",
      "  1.06666656e+01  1.19699204e-05 -5.68898363e+00  5.53922234e-04\n",
      "  1.62293934e+00  8.41840595e-03 -3.11464449e-01  4.71900888e-02\n",
      " -4.25883553e-02  9.95878711e-02 -1.01598838e-01  7.36115670e-02\n",
      " -3.99387587e-02  1.50687889e-02 -3.49070550e-03  3.73507626e-04]\n",
      "[ 1.00000000e+00 -3.68180914e-11 -8.00000000e+00 -6.68040308e-08\n",
      "  1.06666678e+01 -1.18047669e-05 -5.68879853e+00 -5.10732658e-04\n",
      "  1.62758794e+00 -7.26294062e-03 -2.70154238e-01 -3.82348552e-02\n",
      "  9.60780538e-02 -7.61559375e-02  7.02589345e-02 -5.34097741e-02\n",
      "  2.86281041e-02 -1.04196293e-02  2.33851891e-03 -2.44422212e-04]\n",
      "[ 1.00000000e+00  1.32997475e-11 -8.00000000e+00  2.27399505e-08\n",
      "  1.06666663e+01  3.63061300e-06 -5.68891467e+00  1.32078403e-04\n",
      "  1.62489928e+00  1.38430832e-03 -2.91765386e-01  3.94194537e-03\n",
      "  3.18156585e-02 -1.48548542e-04  1.32017843e-03 -6.46255172e-03\n",
      "  5.44668767e-03 -2.60035272e-03  7.30549910e-04 -9.27605996e-05]\n",
      "normy residuum dla kolejnych metod: \n",
      "3.325692481969284e-15\n",
      "3.5288897716431816e-15\n",
      "1.2378022087384646e-14\n"
     ]
    }
   ],
   "source": [
    "import time\n",
    "\n",
    "n = 20\n",
    "b=[]\n",
    "t = np.linspace(0,1,n)\n",
    "for i in range(0,n):\n",
    "    b.append(math.cos(4*t[i]))\n",
    "A = np.vander(t,increasing=True)\n",
    "solvetimestart=time.time()\n",
    "sol1=np.linalg.solve(A,b)\n",
    "solvetimend=time.time()\n",
    "solvetime=solvetimend-solvetimestart\n",
    "print(\"czas Solve\",solvetime)\n",
    "norma1=b-np.matmul(A,sol1)\n",
    "norma1=np.linalg.norm(norma1)\n",
    "q,r = np.linalg.qr(A)\n",
    "y = np.dot(q.T, b)\n",
    "qrtimestart=time.time()\n",
    "sol2 = scipy.linalg.solve_triangular(r,y)\n",
    "qrtimend=time.time()\n",
    "qrtime=qrtimend-qrtimestart\n",
    "print(\"czas QR\",qrtime)\n",
    "norma2=b-np.matmul(A,sol2)\n",
    "norma2=np.linalg.norm(norma2)\n",
    "lstsqtimestart=time.time()\n",
    "sol3=np.linalg.lstsq(A,b,rcond=None)[0]\n",
    "lstsqtimend=time.time()\n",
    "lstsqtime=lstsqtimend-lstsqtimestart\n",
    "print(\"czas lstsq\",lstsqtime)\n",
    "norma3=b-np.matmul(A,sol3)\n",
    "norma3=np.linalg.norm(norma3)\n",
    "print(\"rozwiazania dla kolejnych metod(solve,QR,lstsq): \")\n",
    "print(sol1)\n",
    "print(sol2)\n",
    "print(sol3)\n",
    "print(\"normy residuum dla kolejnych metod: \")\n",
    "print(norma1)\n",
    "print(norma2)\n",
    "print(norma3)\n"
   ]
  },
  {
   "cell_type": "markdown",
   "metadata": {},
   "source": [
    "Dla metody solve mamy najmniejszą normę oraz czas co oznacza, że jest najskuteczniejsza oraz najwydajniejsza"
   ]
  },
  {
   "cell_type": "markdown",
   "metadata": {},
   "source": [
    "Zadanie 4"
   ]
  },
  {
   "cell_type": "code",
   "execution_count": 6,
   "metadata": {},
   "outputs": [
    {
     "name": "stdout",
     "output_type": "stream",
     "text": [
      "Współczynniki uwarunkowania:  [1.0598473617414927, 1.8059515241764281, 9.036893793254162, 681.288991576029, 540.097700030535, 819.6156179551776]\n",
      "Metoda solve:  [6.9821714972185594e-15, 1.2489340658744188e-14, 1.6705672408913073e-14, 8.680290663730793e-13, 1.573707381956454e-12, 1.357095717907593e-12]\n",
      "Metoda bicg:  [3.2499819730309085e-05, 2.3793051881645197e-05, 8.464587263254856e-05, 0.00010959843513568588, 6.849729337272237e-05, 7.553384721415931e-05]\n",
      "Metoda gmres:  [3.249668546034907e-05, 2.3501985398665278e-05, 7.337809266299368e-05, 0.00044257100811839474, 0.0010350455274308727, 0.0016868909345741775]\n",
      "Czasy\n",
      "solve [0.001987457275390625, 0.0018239021301269531, 0.0016543865203857422, 0.0019626617431640625, 0.002187013626098633, 0.0016644001007080078] bicg [0.0006647109985351562, 0.0010712146759033203, 0.0018362998962402344, 0.06859397888183594, 0.07236218452453613, 0.07192540168762207] gmres [0.0006647109985351562, 0.0010712146759033203, 0.0018362998962402344, 0.06859397888183594, 0.07236218452453613, 0.07192540168762207]\n"
     ]
    },
    {
     "data": {
      "image/png": "[encoded data removed]",
      "text/plain": [
       "<Figure size 432x288 with 1 Axes>"
      ]
     },
     "metadata": {
      "needs_background": "light"
     },
     "output_type": "display_data"
    },
    {
     "data": {
      "image/png": "[encoded data removed]",
      "text/plain": [
       "<Figure size 432x288 with 1 Axes>"
      ]
     },
     "metadata": {
      "needs_background": "light"
     },
     "output_type": "display_data"
    },
    {
     "data": {
      "image/png": "[encoded data removed]",
      "text/plain": [
       "<Figure size 432x288 with 1 Axes>"
      ]
     },
     "metadata": {
      "needs_background": "light"
     },
     "output_type": "display_data"
    }
   ],
   "source": [
    "import scipy.sparse.linalg\n",
    "import matplotlib.pyplot as plt\n",
    "T= [0.01, 0.05, 0.1, 0.2, 0.5, 0.75]\n",
    "n = 500\n",
    "C = np.random.uniform(-1,1,n*n).reshape((n,n))\n",
    "C = np.tril(C) + np.tril(C, -1).T\n",
    "for i in range (0,n):\n",
    "    C[i,i] = 1\n",
    "b = np.random.uniform(-1,1,n)\n",
    "wspUw=[]\n",
    "solveresi=[]\n",
    "bicgresi=[]\n",
    "gmresresi=[]\n",
    "solvetimeres=[]\n",
    "bicgtimeres=[]\n",
    "gmrestimeres=[]\n",
    "for i in T:\n",
    "    A=C.copy()\n",
    "    for j in range(0,n):\n",
    "        for k in range(0,j):\n",
    "            if abs(A[j,k])>i:\n",
    "                A[j,k] = 0\n",
    "                A[k,j] = 0\n",
    "    \n",
    "    wspUw.append(np.linalg.cond(A))\n",
    "    csrA=(scipy.sparse.csr_matrix(A)).toarray()\n",
    "    startsolve = time.time()\n",
    "    solveres = np.linalg.solve(A,b)\n",
    "    stopsolve=time.time()\n",
    "    solvetimeres.append(stopsolve-startsolve)\n",
    "    startbicg=time.time()\n",
    "    bicgres=scipy.sparse.linalg.bicg(csrA,b)[0]\n",
    "    stopbicg=time.time()\n",
    "    bicgtimeres.append(stopbicg-startbicg)\n",
    "    startgmres=time.time()\n",
    "    gmresres=scipy.sparse.linalg.gmres(csrA,b)[0]\n",
    "    stopgmres=time.time()\n",
    "    gmrestimeres.append(stopbicg-startbicg)\n",
    "    solveresi.append(np.linalg.norm(b-np.matmul(A,solveres)))\n",
    "    bicgresi.append(np.linalg.norm(b-np.matmul(csrA,bicgres)))\n",
    "    gmresresi.append(np.linalg.norm(b-np.matmul(csrA,gmresres)))\n",
    "    \n",
    "print(\"Współczynniki uwarunkowania: \",wspUw)\n",
    "print(\"Metoda solve: \",solveresi)\n",
    "print(\"Metoda bicg: \",bicgresi)\n",
    "print(\"Metoda gmres: \",gmresresi)\n",
    "print(\"Czasy\")\n",
    "print(\"solve\",solvetimeres,\"bicg\",bicgtimeres,\"gmres\",gmrestimeres)\n",
    "\n",
    "plt.figure()\n",
    "plt.plot(T,wspUw,label='Wspolczynnik uwarunkowania(tau)')\n",
    "plt.title('wykres współczynnyika uwarunkowania macierzy od tau')\n",
    "plt.xlabel('tau')\n",
    "plt.ylabel('Wspolczynnik uwarunkowania')\n",
    "plt.legend()\n",
    "plt.show()\n",
    "\n",
    "plt.figure()\n",
    "plt.semilogy(wspUw,solveresi,\"o\",label='solve')\n",
    "plt.semilogy(wspUw,bicgresi,\"x\",label='bigc')\n",
    "plt.semilogy(wspUw,gmresresi,\"^\",label='gmres')\n",
    "plt.title('wykres normy residuum rozwiazania od wspolczynnika uwarunkowania macierzy')\n",
    "plt.xlabel('Wspolczynnik uwarunkowania')\n",
    "plt.ylabel('norma residuum')\n",
    "plt.legend()\n",
    "plt.show()\n",
    "\n",
    "plt.figure()\n",
    "plt.semilogy(wspUw,solvetimeres,\"o\",label='solve')\n",
    "plt.semilogy(wspUw,bicgtimeres,\"x\",label='bigc')\n",
    "plt.semilogy(wspUw,gmrestimeres,\"^\",label='gmres')\n",
    "plt.title('wykresczasu rozwiazania od wspolczynnika uwarunkowania macierzy')\n",
    "plt.xlabel('Wspolczynnik uwarunkowania')\n",
    "plt.ylabel('czas')\n",
    "plt.legend()\n",
    "plt.show()"
   ]
  },
  {
   "cell_type": "markdown",
   "metadata": {},
   "source": [
    "Ponownie dla metody solve mamy najmniejszą normę oraz czas co oznacza, że jest najskuteczniejsza oraz najwydajniejsza\n",
    "Dla wzrostu tau wzrasta współczynnik uwarunkowania macierzy A\n",
    "im większy współczynnik uwarunkowania macierzy A tym czas wykonywania jest wyższy ,tylko metoda solve zachowuje podobny czas."
   ]
  },
  {
   "cell_type": "markdown",
   "metadata": {},
   "source": [
    "Zadanie 5"
   ]
  },
  {
   "cell_type": "code",
   "execution_count": 5,
   "metadata": {},
   "outputs": [
    {
     "name": "stdout",
     "output_type": "stream",
     "text": [
      "Rozwiązanie metodą Gaussa-Seidela:  [-9.71400324e+60 -2.37837221e+62  5.04816453e+62]\n",
      "Rozwiązanie metodą solve:  [ 0.25 -0.75  0.75]\n",
      "Dla tego układu metoda nie działa ponieważ macierz A nie spełnia kryteriów silnej ani słabej dominacji\n",
      "metoda dziala np dla A=[[12,3,-5],[1,5,3],[3,7,13]]\n",
      "Rozwiązanie metodą Gaussa-Seidela:  [-0.18705036  0.60791367 -0.28417266]\n",
      "Rozwiązanie metodą solve:  [-0.18705036  0.60791367 -0.28417266]\n"
     ]
    }
   ],
   "source": [
    "def GaussSeidl(A,b,n,epsilon):\n",
    "    L = np.tril(A)\n",
    "    U = A - L\n",
    "    MGS=-scipy.linalg.inv(L)*U\n",
    "    D=np.diagonal(MGS)\n",
    "    maxdiag=abs(D[0])\n",
    "    for i in range(0,len(D)):\n",
    "        if(abs(D[i])>maxdiag):\n",
    "            maxdiag=abs(D[i])\n",
    "    if(maxdiag<1):\n",
    "        xk = np.ones(len(b)) - np.ones(len(b))\n",
    "        k=0\n",
    "        while(k<n):\n",
    "            k+=1\n",
    "            xk1 = np.dot(np.linalg.inv(L), b - np.dot(U, xk)) \n",
    "            norma = abs(np.linalg.norm(b-np.matmul(A,xk1))-np.linalg.norm(b-np.matmul(A,xk)))\n",
    "            xk=xk1\n",
    "            if(epsilon>norma ):\n",
    "                break\n",
    "    else:\n",
    "        print(\"złe dane\")\n",
    "    return xk1\n",
    "A = np.array([[1,2,3],[2,1,3],[3,2,1]])\n",
    "b = np.array([1,2,0])\n",
    "x_k1 = GaussSeidl(A,b,100,math.pow(10,-10))\n",
    "xd=np.linalg.solve(A,b)\n",
    "print(\"Rozwiązanie metodą Gaussa-Seidela: \",x_k1)\n",
    "print(\"Rozwiązanie metodą solve: \",xd)\n",
    "print(\"Dla tego układu metoda nie działa ponieważ macierz A nie spełnia kryteriów silnej ani słabej dominacji\")\n",
    "A2=np.array([[12,3,-5],[1,5,3],[3,7,13]])\n",
    "x2k1 = GaussSeidl(A2,b,100,math.pow(10,-10))\n",
    "xd2=np.linalg.solve(A2,b)\n",
    "print(\"metoda dziala np dla A=[[12,3,-5],[1,5,3],[3,7,13]]\")\n",
    "print(\"Rozwiązanie metodą Gaussa-Seidela: \",x2k1)\n",
    "print(\"Rozwiązanie metodą solve: \",xd2)"
   ]
  }
 ],
 "metadata": {
  "kernelspec": {
   "display_name": "Python 3",
   "language": "python",
   "name": "python3"
  },
  "language_info": {
   "codemirror_mode": {
    "name": "ipython",
    "version": 3
   },
   "file_extension": ".py",
   "mimetype": "text/x-python",
   "name": "python",
   "nbconvert_exporter": "python",
   "pygments_lexer": "ipython3",
   "version": "3.7.0"
  }
 },
 "nbformat": 4,
 "nbformat_minor": 2
}
