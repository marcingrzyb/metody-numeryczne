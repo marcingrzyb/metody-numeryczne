{
 "cells": [
  {
   "cell_type": "markdown",
   "metadata": {},
   "source": [
    "Zadanie 1."
   ]
  },
  {
   "cell_type": "code",
   "execution_count": 26,
   "metadata": {},
   "outputs": [
    {
     "data": {
      "image/png": "[encoded data removed]",
      "text/plain": [
       "<Figure size 432x288 with 1 Axes>"
      ]
     },
     "metadata": {
      "needs_background": "light"
     },
     "output_type": "display_data"
    }
   ],
   "source": [
    "import math\n",
    "import numpy\n",
    "import matplotlib.pyplot as plt\n",
    "STOP = 10**-10\n",
    "MAXITER=100\n",
    "def fx(x):\n",
    "    return(pow(math.e,-2*x)+x**2-1)\n",
    "    \n",
    "def dfx(x):\n",
    "    return(-2*pow(math.e,-2*x)+2*x)\n",
    "def d2fx(x):\n",
    "    return(-4*pow(math.e,-2*x)+2)\n",
    "    \n",
    "    \n",
    "x = numpy.linspace(-2,5,5000)\n",
    "y = [fx(i) for i in x]\n",
    "dy = [dfx(i) for i in x]\n",
    "d2y = [d2fx(i) for i in x]\n",
    "\n",
    "plt.figure()\n",
    "plt.plot(x,y,label='$f(x)$')\n",
    "plt.plot(x,dy,label='$f\\'(x)$')\n",
    "plt.plot(x,d2y,label='$f\\'\\'(x)$')\n",
    "plt.grid()\n",
    "plt.ylim(-2,10)\n",
    "plt.title('funkcja f(x) oraz jej pochodne')\n",
    "plt.axhline(0,color='black')\n",
    "plt.axvline(0,color='black')\n",
    "plt.xlabel('x')\n",
    "plt.ylabel('y')\n",
    "plt.legend()\n",
    "plt.show()"
   ]
  },
  {
   "cell_type": "markdown",
   "metadata": {},
   "source": [
    "Szacunkowe punkty zerowe funkcji f(x): x=0,x=1\n",
    "Przedziały dla metod bisekcji i siecznych: [-0.2,0.4], [0.5,1.0]\n",
    "Punkty startowe dla metody stycznych: -0.2, 0.5"
   ]
  },
  {
   "cell_type": "markdown",
   "metadata": {},
   "source": [
    "Zadanie 2."
   ]
  },
  {
   "cell_type": "code",
   "execution_count": 27,
   "metadata": {},
   "outputs": [],
   "source": [
    "def bisection(fx,a,b,accur,maxit):\n",
    "    i=0\n",
    "    while(i<maxit and abs(b-a)>accur):\n",
    "        i+=1\n",
    "        c = (a+b)/2.0\n",
    "        if (fx(c)*fx(a) < 0):\n",
    "            b = c\n",
    "        else:\n",
    "            a = c\n",
    "    return c,i"
   ]
  },
  {
   "cell_type": "code",
   "execution_count": 28,
   "metadata": {},
   "outputs": [
    {
     "name": "stdout",
     "output_type": "stream",
     "text": [
      "(2.3283064365386964e-11, 33)\n",
      "(0.9165625831228681, 33)\n"
     ]
    }
   ],
   "source": [
    "print (bisection(fx,-0.2,0.4,STOP,MAXITER))\n",
    "print (bisection(fx,0.5,1.0,STOP,MAXITER))"
   ]
  },
  {
   "cell_type": "markdown",
   "metadata": {},
   "source": [
    "Warunki wystarczające zbieżności metody bisekcji w przedziale [a,b]:\n",
    "Funkcja f(x) jest ciągła w przedziale dokniętym [a,b].\n",
    "Funkcja przyjmuje różne znaki na końcach przedziału (czyli zachodzi f(a)*f(b) < 0)."
   ]
  },
  {
   "cell_type": "code",
   "execution_count": 36,
   "metadata": {},
   "outputs": [
    {
     "name": "stdout",
     "output_type": "stream",
     "text": [
      "pierwiastek w okolicy 0: \n",
      "mybisection : 0.0002968311309814453\n",
      "scipybisection : 0.00023746490478515625\n",
      "pierwiastek w okolicy 0,9: \n",
      "mybisection : 0.0003266334533691406\n",
      "scipybisection : 0.00022482872009277344\n"
     ]
    }
   ],
   "source": [
    "import time\n",
    "import scipy.optimize as scp\n",
    "print(\"pierwiastek w okolicy 0: \")\n",
    "current = time.time()\n",
    "mybisection = bisection(fx,-0.2,0.4,STOP,MAXITER)\n",
    "print(\"mybisection :\",time.time()-current)\n",
    "current = time.time()\n",
    "importbisection = scp.bisect(fx,-0.2,0.4,xtol=STOP,maxiter=MAXITER)\n",
    "print(\"scipybisection :\",time.time()-current)\n",
    "print(\"pierwiastek w okolicy 0,9: \")\n",
    "current = time.time()\n",
    "mybisection = bisection(fx,0.5,1.0,STOP,MAXITER)\n",
    "print(\"mybisection :\",time.time()-current)\n",
    "current = time.time()\n",
    "importbisection = scp.bisect(fx,0.5,1.0,xtol=STOP,maxiter=MAXITER)\n",
    "print(\"scipybisection :\",time.time()-current)"
   ]
  },
  {
   "cell_type": "markdown",
   "metadata": {},
   "source": [
    "Zadanie 3."
   ]
  },
  {
   "cell_type": "code",
   "execution_count": 30,
   "metadata": {},
   "outputs": [],
   "source": [
    "def NR(fx,dfx,a,accur,maxit):\n",
    "    xa=a\n",
    "    xb=xa-(fx(xa)/dfx(xa))\n",
    "    i=0\n",
    "    while maxit>i and abs(xa-xb)>accur:\n",
    "        i+=1\n",
    "        xa=xb\n",
    "        xb=xa-fx(xa)/dfx(xa)\n",
    "    return xb,i"
   ]
  },
  {
   "cell_type": "code",
   "execution_count": 31,
   "metadata": {},
   "outputs": [
    {
     "name": "stdout",
     "output_type": "stream",
     "text": [
      "(1.513707656052328e-17, 5)\n",
      "(0.916562583105698, 6)\n"
     ]
    }
   ],
   "source": [
    "print (NR(fx,dfx,-0.2,STOP,MAXITER))\n",
    "print (NR(fx,dfx,0.5,STOP,MAXITER))"
   ]
  },
  {
   "cell_type": "markdown",
   "metadata": {},
   "source": [
    "Warunki wystarczające zbieżności metody stycznych dla ustalonego punktu startowego:\n",
    "1.Funkcja jest ciągła w przedziale domkniętym [a,b];\n",
    "2.Pierwsza i druga pochodna funkcji f(x) istnieją i są ciągłe w przedziale domkniętym [a,b].\")\n",
    "3.Na końcach przedziału [a,b] wartości funkcji f(x) przyjmują przeciwne znaki (czyli zachodzi f(a)*f(b) < 0).\n",
    "4.Pierwsza i druga pochodna mają stały znak w całym przedziale [a,b] (w przedziale nie ma ekstremów lokalnych  i punktów przegięcia).\n",
    "5.W punkcie startowym funkcja f(x) przyjmuje ten sam znak co jej druga pochodna (czyli zachodzi f(x0)*f''(x0)>0)"
   ]
  },
  {
   "cell_type": "code",
   "execution_count": 37,
   "metadata": {},
   "outputs": [
    {
     "name": "stdout",
     "output_type": "stream",
     "text": [
      "pierwiastek w okolicy 0: \n",
      "myNR : 0.000202178955078125\n",
      "scipyNR : 0.0002079010009765625\n",
      "pierwiastek w okolicy 0,9: \n",
      "myNR : 0.0001685619354248047\n",
      "scipyNR : 0.00019979476928710938\n"
     ]
    }
   ],
   "source": [
    "print(\"pierwiastek w okolicy 0: \")\n",
    "current = time.time()\n",
    "myNR = NR(fx,dfx,-0.2,STOP,MAXITER)\n",
    "print(\"myNR :\",time.time()-current)\n",
    "current = time.time()\n",
    "importNR = scp.newton(fx,-0.2,fprime=dfx,tol=STOP,maxiter=MAXITER)\n",
    "print(\"scipyNR :\",time.time()-current)\n",
    "print(\"pierwiastek w okolicy 0,9: \")\n",
    "current = time.time()\n",
    "myNR = NR(fx,dfx,0.5,STOP,MAXITER)\n",
    "print(\"myNR :\",time.time()-current)\n",
    "current = time.time()\n",
    "importNR = scp.newton(fx,0.5,fprime=dfx,tol=STOP,maxiter=MAXITER)\n",
    "print(\"scipyNR :\",time.time()-current)"
   ]
  },
  {
   "cell_type": "markdown",
   "metadata": {},
   "source": [
    "Zadanie 4."
   ]
  },
  {
   "cell_type": "code",
   "execution_count": 38,
   "metadata": {},
   "outputs": [],
   "source": [
    "def secant(fx,a,b,accur,maxit):\n",
    "    xa = a\n",
    "    xb = a - fx(a)*(b-a)/(fx(b)-fx(a))\n",
    "    i=0\n",
    "    while i<maxit and abs(xb-xa)>accur:\n",
    "        i+=1\n",
    "        tmp=xb\n",
    "        xb = xa - fx(xa)*(tmp-xa)/(fx(tmp)-fx(xa))\n",
    "        xa=tmp\n",
    "    return xb,i"
   ]
  },
  {
   "cell_type": "code",
   "execution_count": 39,
   "metadata": {},
   "outputs": [
    {
     "name": "stdout",
     "output_type": "stream",
     "text": [
      "(2.4552257482151985e-17, 7)\n",
      "(0.916562583105698, 6)\n"
     ]
    }
   ],
   "source": [
    "print (secant(fx,-0.2,0.4,STOP,MAXITER))\n",
    "print (secant(fx,0.5,1.0,STOP,MAXITER))"
   ]
  },
  {
   "cell_type": "markdown",
   "metadata": {},
   "source": [
    "Warunki wystarczające zbieżności metody siecznych w przedziale [a,b]:\n",
    "1.Funkcja jest ciągła w przedziale domkniętym [a,b];\n",
    "2.Pierwsza i druga pochodna funkcji f(x) istnieją i są ciągłe w przedziale domkniętym [a,b].\n",
    "3.Na końcach przedziału [a,b] wartości funkcji f(x) przyjmują przeciwne znaki (czyli zachodzi f(a)*f(b) < 0). \n",
    "4.Pierwsza i druga pochodna mają stały znak w całym przedziale [a,b] (w przedziale nie ma ekstremów lokalnych i punktów przegięcia).\n"
   ]
  },
  {
   "cell_type": "code",
   "execution_count": 40,
   "metadata": {},
   "outputs": [
    {
     "name": "stdout",
     "output_type": "stream",
     "text": [
      "pierwiastek w okolicy 0: \n",
      "mysecant : 7.009506225585938e-05\n",
      "scipysecant : 6.437301635742188e-05\n",
      "pierwiastek w okolicy 0,9: \n",
      "mysecant : 5.4836273193359375e-05\n",
      "scipysecant : 7.152557373046875e-05\n"
     ]
    }
   ],
   "source": [
    "print(\"pierwiastek w okolicy 0: \")\n",
    "current = time.time()\n",
    "mysecant = secant(fx,-0.2,0.4,STOP,MAXITER)\n",
    "print(\"mysecant :\",time.time()-current)\n",
    "current = time.time()\n",
    "importsecant = scp.newton(fx,-0.2,tol=STOP,maxiter=MAXITER)\n",
    "print(\"scipysecant :\",time.time()-current)\n",
    "print(\"pierwiastek w okolicy 0,9: \")\n",
    "current = time.time()\n",
    "mysecant = secant(fx,0.5,1.0,STOP,MAXITER)\n",
    "print(\"mysecant :\",time.time()-current)\n",
    "current = time.time()\n",
    "importNR = scp.newton(fx,0.5,tol=STOP,maxiter=MAXITER)\n",
    "print(\"scipysecant :\",time.time()-current)"
   ]
  },
  {
   "cell_type": "markdown",
   "metadata": {},
   "source": [
    "Najszybsza z testowanych metod okazala sie metoda Newtona-Raphsona(stycznych) znajdujac pierwiastki w odpowiednio 5 i 6 iteracjach, lekko wolniejsza byla metoda stycznych: 7 i 6 iteracji, a najwolniejsza metoda bisekcji:33 i 33 iteracje."
   ]
  }
 ],
 "metadata": {
  "kernelspec": {
   "display_name": "Python 3",
   "language": "python",
   "name": "python3"
  },
  "language_info": {
   "codemirror_mode": {
    "name": "ipython",
    "version": 3
   },
   "file_extension": ".py",
   "mimetype": "text/x-python",
   "name": "python",
   "nbconvert_exporter": "python",
   "pygments_lexer": "ipython3",
   "version": "3.7.0"
  }
 },
 "nbformat": 4,
 "nbformat_minor": 2
}
